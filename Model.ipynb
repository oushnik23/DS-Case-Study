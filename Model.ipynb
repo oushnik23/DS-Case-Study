{
 "cells": [
  {
   "cell_type": "code",
   "execution_count": 85,
   "metadata": {},
   "outputs": [],
   "source": [
    "import pandas as pd\n",
    "import numpy as np\n",
    "import seaborn as sns\n",
    "import matplotlib.pyplot as plt\n",
    "import warnings\n",
    "warnings.filterwarnings(\"ignore\")\n",
    "from sklearn.model_selection import cross_val_score\n",
    "from sklearn.metrics import confusion_matrix, plot_confusion_matrix,accuracy_score\n",
    "from sklearn.feature_selection import chi2,SelectKBest"
   ]
  },
  {
   "cell_type": "code",
   "execution_count": 48,
   "metadata": {},
   "outputs": [],
   "source": [
    "import os\n",
    "os.getcwd()\n",
    "os.chdir(r\"C:\\Users\\Administrator\\Desktop\\PYTHON\\DS Case Study Eko\")"
   ]
  },
  {
   "cell_type": "code",
   "execution_count": 67,
   "metadata": {},
   "outputs": [
    {
     "data": {
      "text/html": [
       "<div>\n",
       "<style scoped>\n",
       "    .dataframe tbody tr th:only-of-type {\n",
       "        vertical-align: middle;\n",
       "    }\n",
       "\n",
       "    .dataframe tbody tr th {\n",
       "        vertical-align: top;\n",
       "    }\n",
       "\n",
       "    .dataframe thead th {\n",
       "        text-align: right;\n",
       "    }\n",
       "</style>\n",
       "<table border=\"1\" class=\"dataframe\">\n",
       "  <thead>\n",
       "    <tr style=\"text-align: right;\">\n",
       "      <th></th>\n",
       "      <th>Unnamed: 0</th>\n",
       "      <th>mrn</th>\n",
       "      <th>Age</th>\n",
       "      <th>sex.factor</th>\n",
       "      <th>bmi</th>\n",
       "      <th>hypoxia_ed.factor</th>\n",
       "      <th>smoke_vape</th>\n",
       "      <th>dm.factor</th>\n",
       "      <th>htn.factor</th>\n",
       "      <th>pulm___1.factor</th>\n",
       "      <th>...</th>\n",
       "      <th>first_cxr_results___2.factor</th>\n",
       "      <th>first_cxr_results___3.factor</th>\n",
       "      <th>duration_symptoms</th>\n",
       "      <th>Ed_before_order_set</th>\n",
       "      <th>event</th>\n",
       "      <th>name</th>\n",
       "      <th>value</th>\n",
       "      <th>Date</th>\n",
       "      <th>Month</th>\n",
       "      <th>Year</th>\n",
       "    </tr>\n",
       "  </thead>\n",
       "  <tbody>\n",
       "    <tr>\n",
       "      <td>0</td>\n",
       "      <td>0</td>\n",
       "      <td>655528</td>\n",
       "      <td>62.321679</td>\n",
       "      <td>Male</td>\n",
       "      <td>20.388645</td>\n",
       "      <td>No</td>\n",
       "      <td>No</td>\n",
       "      <td>No</td>\n",
       "      <td>Yes</td>\n",
       "      <td>Unchecked</td>\n",
       "      <td>...</td>\n",
       "      <td>Checked</td>\n",
       "      <td>Unchecked</td>\n",
       "      <td>8</td>\n",
       "      <td>No</td>\n",
       "      <td>Yes</td>\n",
       "      <td>s_bp_noninvasive (d)</td>\n",
       "      <td>62.971715</td>\n",
       "      <td>2</td>\n",
       "      <td>7</td>\n",
       "      <td>2020</td>\n",
       "    </tr>\n",
       "    <tr>\n",
       "      <td>1</td>\n",
       "      <td>630</td>\n",
       "      <td>729545</td>\n",
       "      <td>78.625586</td>\n",
       "      <td>Female</td>\n",
       "      <td>27.554594</td>\n",
       "      <td>Yes</td>\n",
       "      <td>No</td>\n",
       "      <td>Yes</td>\n",
       "      <td>Yes</td>\n",
       "      <td>Unchecked</td>\n",
       "      <td>...</td>\n",
       "      <td>Checked</td>\n",
       "      <td>Unchecked</td>\n",
       "      <td>20</td>\n",
       "      <td>Yes</td>\n",
       "      <td>Yes</td>\n",
       "      <td>s_bp_noninvasive (d)</td>\n",
       "      <td>58.688958</td>\n",
       "      <td>30</td>\n",
       "      <td>6</td>\n",
       "      <td>2020</td>\n",
       "    </tr>\n",
       "    <tr>\n",
       "      <td>2</td>\n",
       "      <td>1060</td>\n",
       "      <td>805568</td>\n",
       "      <td>70.460677</td>\n",
       "      <td>Female</td>\n",
       "      <td>34.141729</td>\n",
       "      <td>Yes</td>\n",
       "      <td>No</td>\n",
       "      <td>Yes</td>\n",
       "      <td>Yes</td>\n",
       "      <td>Unchecked</td>\n",
       "      <td>...</td>\n",
       "      <td>Checked</td>\n",
       "      <td>Unchecked</td>\n",
       "      <td>9</td>\n",
       "      <td>No</td>\n",
       "      <td>No</td>\n",
       "      <td>s_bp_noninvasive (d)</td>\n",
       "      <td>64.848642</td>\n",
       "      <td>7</td>\n",
       "      <td>7</td>\n",
       "      <td>2020</td>\n",
       "    </tr>\n",
       "  </tbody>\n",
       "</table>\n",
       "<p>3 rows × 33 columns</p>\n",
       "</div>"
      ],
      "text/plain": [
       "   Unnamed: 0     mrn        Age sex.factor        bmi hypoxia_ed.factor  \\\n",
       "0           0  655528  62.321679       Male  20.388645                No   \n",
       "1         630  729545  78.625586     Female  27.554594               Yes   \n",
       "2        1060  805568  70.460677     Female  34.141729               Yes   \n",
       "\n",
       "  smoke_vape dm.factor htn.factor pulm___1.factor  ...  \\\n",
       "0         No        No        Yes       Unchecked  ...   \n",
       "1         No       Yes        Yes       Unchecked  ...   \n",
       "2         No       Yes        Yes       Unchecked  ...   \n",
       "\n",
       "  first_cxr_results___2.factor first_cxr_results___3.factor duration_symptoms  \\\n",
       "0                      Checked                    Unchecked                 8   \n",
       "1                      Checked                    Unchecked                20   \n",
       "2                      Checked                    Unchecked                 9   \n",
       "\n",
       "  Ed_before_order_set event                  name      value Date Month  Year  \n",
       "0                  No   Yes  s_bp_noninvasive (d)  62.971715    2     7  2020  \n",
       "1                 Yes   Yes  s_bp_noninvasive (d)  58.688958   30     6  2020  \n",
       "2                  No    No  s_bp_noninvasive (d)  64.848642    7     7  2020  \n",
       "\n",
       "[3 rows x 33 columns]"
      ]
     },
     "execution_count": 67,
     "metadata": {},
     "output_type": "execute_result"
    }
   ],
   "source": [
    "dataset=pd.read_csv(\"cleaned.csv\")\n",
    "dataset.head(3)"
   ]
  },
  {
   "cell_type": "code",
   "execution_count": 68,
   "metadata": {},
   "outputs": [
    {
     "data": {
      "text/plain": [
       "Index(['Unnamed: 0', 'mrn', 'Age', 'sex.factor', 'bmi', 'hypoxia_ed.factor',\n",
       "       'smoke_vape', 'dm.factor', 'htn.factor', 'pulm___1.factor',\n",
       "       'renal___1.factor', 'renal___2.factor', 'cad.factor', 'cancer',\n",
       "       'any_immunosuppression', 'symptoms___1.factor', 'symptoms___2.factor',\n",
       "       'symptoms___10.factor', 'symptoms___9.factor', 'symptoms___8.factor',\n",
       "       'symptoms___3.factor', 'first_cxr_results___0.factor',\n",
       "       'first_cxr_results___1.factor', 'first_cxr_results___2.factor',\n",
       "       'first_cxr_results___3.factor', 'duration_symptoms',\n",
       "       'Ed_before_order_set', 'event', 'name', 'value', 'Date', 'Month',\n",
       "       'Year'],\n",
       "      dtype='object')"
      ]
     },
     "execution_count": 68,
     "metadata": {},
     "output_type": "execute_result"
    }
   ],
   "source": [
    "dataset.columns"
   ]
  },
  {
   "cell_type": "code",
   "execution_count": 69,
   "metadata": {},
   "outputs": [],
   "source": [
    "x=dataset.drop(['Unnamed: 0','name','event'],axis=1)\n",
    "y=dataset[['event']]"
   ]
  },
  {
   "cell_type": "code",
   "execution_count": 7,
   "metadata": {},
   "outputs": [
    {
     "data": {
      "text/plain": [
       "mrn                             False\n",
       "Age                             False\n",
       "sex.factor                      False\n",
       "bmi                             False\n",
       "hypoxia_ed.factor               False\n",
       "smoke_vape                      False\n",
       "dm.factor                       False\n",
       "htn.factor                      False\n",
       "pulm___1.factor                 False\n",
       "renal___1.factor                False\n",
       "renal___2.factor                False\n",
       "cad.factor                      False\n",
       "cancer                          False\n",
       "any_immunosuppression           False\n",
       "symptoms___1.factor             False\n",
       "symptoms___2.factor             False\n",
       "symptoms___10.factor            False\n",
       "symptoms___9.factor             False\n",
       "symptoms___8.factor             False\n",
       "symptoms___3.factor             False\n",
       "first_cxr_results___0.factor    False\n",
       "first_cxr_results___1.factor    False\n",
       "first_cxr_results___2.factor    False\n",
       "first_cxr_results___3.factor    False\n",
       "duration_symptoms               False\n",
       "Ed_before_order_set             False\n",
       "value                           False\n",
       "Date                            False\n",
       "Month                           False\n",
       "Year                            False\n",
       "dtype: bool"
      ]
     },
     "execution_count": 7,
     "metadata": {},
     "output_type": "execute_result"
    }
   ],
   "source": [
    "x.isnull().any()"
   ]
  },
  {
   "cell_type": "code",
   "execution_count": 70,
   "metadata": {},
   "outputs": [],
   "source": [
    "x=pd.get_dummies(x)"
   ]
  },
  {
   "cell_type": "code",
   "execution_count": 71,
   "metadata": {},
   "outputs": [
    {
     "data": {
      "text/html": [
       "<div>\n",
       "<style scoped>\n",
       "    .dataframe tbody tr th:only-of-type {\n",
       "        vertical-align: middle;\n",
       "    }\n",
       "\n",
       "    .dataframe tbody tr th {\n",
       "        vertical-align: top;\n",
       "    }\n",
       "\n",
       "    .dataframe thead th {\n",
       "        text-align: right;\n",
       "    }\n",
       "</style>\n",
       "<table border=\"1\" class=\"dataframe\">\n",
       "  <thead>\n",
       "    <tr style=\"text-align: right;\">\n",
       "      <th></th>\n",
       "      <th>mrn</th>\n",
       "      <th>Age</th>\n",
       "      <th>bmi</th>\n",
       "      <th>duration_symptoms</th>\n",
       "      <th>value</th>\n",
       "      <th>Date</th>\n",
       "      <th>Month</th>\n",
       "      <th>Year</th>\n",
       "      <th>sex.factor_Female</th>\n",
       "      <th>sex.factor_Male</th>\n",
       "      <th>...</th>\n",
       "      <th>first_cxr_results___0.factor_Checked</th>\n",
       "      <th>first_cxr_results___0.factor_Unchecked</th>\n",
       "      <th>first_cxr_results___1.factor_Checked</th>\n",
       "      <th>first_cxr_results___1.factor_Unchecked</th>\n",
       "      <th>first_cxr_results___2.factor_Checked</th>\n",
       "      <th>first_cxr_results___2.factor_Unchecked</th>\n",
       "      <th>first_cxr_results___3.factor_Checked</th>\n",
       "      <th>first_cxr_results___3.factor_Unchecked</th>\n",
       "      <th>Ed_before_order_set_No</th>\n",
       "      <th>Ed_before_order_set_Yes</th>\n",
       "    </tr>\n",
       "  </thead>\n",
       "  <tbody>\n",
       "    <tr>\n",
       "      <td>0</td>\n",
       "      <td>655528</td>\n",
       "      <td>62.321679</td>\n",
       "      <td>20.388645</td>\n",
       "      <td>8</td>\n",
       "      <td>62.971715</td>\n",
       "      <td>2</td>\n",
       "      <td>7</td>\n",
       "      <td>2020</td>\n",
       "      <td>0</td>\n",
       "      <td>1</td>\n",
       "      <td>...</td>\n",
       "      <td>0</td>\n",
       "      <td>1</td>\n",
       "      <td>0</td>\n",
       "      <td>1</td>\n",
       "      <td>1</td>\n",
       "      <td>0</td>\n",
       "      <td>0</td>\n",
       "      <td>1</td>\n",
       "      <td>1</td>\n",
       "      <td>0</td>\n",
       "    </tr>\n",
       "    <tr>\n",
       "      <td>1</td>\n",
       "      <td>729545</td>\n",
       "      <td>78.625586</td>\n",
       "      <td>27.554594</td>\n",
       "      <td>20</td>\n",
       "      <td>58.688958</td>\n",
       "      <td>30</td>\n",
       "      <td>6</td>\n",
       "      <td>2020</td>\n",
       "      <td>1</td>\n",
       "      <td>0</td>\n",
       "      <td>...</td>\n",
       "      <td>0</td>\n",
       "      <td>1</td>\n",
       "      <td>0</td>\n",
       "      <td>1</td>\n",
       "      <td>1</td>\n",
       "      <td>0</td>\n",
       "      <td>0</td>\n",
       "      <td>1</td>\n",
       "      <td>0</td>\n",
       "      <td>1</td>\n",
       "    </tr>\n",
       "    <tr>\n",
       "      <td>2</td>\n",
       "      <td>805568</td>\n",
       "      <td>70.460677</td>\n",
       "      <td>34.141729</td>\n",
       "      <td>9</td>\n",
       "      <td>64.848642</td>\n",
       "      <td>7</td>\n",
       "      <td>7</td>\n",
       "      <td>2020</td>\n",
       "      <td>1</td>\n",
       "      <td>0</td>\n",
       "      <td>...</td>\n",
       "      <td>0</td>\n",
       "      <td>1</td>\n",
       "      <td>0</td>\n",
       "      <td>1</td>\n",
       "      <td>1</td>\n",
       "      <td>0</td>\n",
       "      <td>0</td>\n",
       "      <td>1</td>\n",
       "      <td>1</td>\n",
       "      <td>0</td>\n",
       "    </tr>\n",
       "    <tr>\n",
       "      <td>3</td>\n",
       "      <td>895876</td>\n",
       "      <td>59.043149</td>\n",
       "      <td>19.833296</td>\n",
       "      <td>7</td>\n",
       "      <td>62.823134</td>\n",
       "      <td>30</td>\n",
       "      <td>6</td>\n",
       "      <td>2020</td>\n",
       "      <td>0</td>\n",
       "      <td>1</td>\n",
       "      <td>...</td>\n",
       "      <td>0</td>\n",
       "      <td>1</td>\n",
       "      <td>1</td>\n",
       "      <td>0</td>\n",
       "      <td>0</td>\n",
       "      <td>1</td>\n",
       "      <td>0</td>\n",
       "      <td>1</td>\n",
       "      <td>1</td>\n",
       "      <td>0</td>\n",
       "    </tr>\n",
       "    <tr>\n",
       "      <td>4</td>\n",
       "      <td>905164</td>\n",
       "      <td>90.477229</td>\n",
       "      <td>19.858003</td>\n",
       "      <td>25</td>\n",
       "      <td>60.045890</td>\n",
       "      <td>27</td>\n",
       "      <td>6</td>\n",
       "      <td>2020</td>\n",
       "      <td>0</td>\n",
       "      <td>1</td>\n",
       "      <td>...</td>\n",
       "      <td>0</td>\n",
       "      <td>1</td>\n",
       "      <td>0</td>\n",
       "      <td>1</td>\n",
       "      <td>1</td>\n",
       "      <td>0</td>\n",
       "      <td>0</td>\n",
       "      <td>1</td>\n",
       "      <td>0</td>\n",
       "      <td>1</td>\n",
       "    </tr>\n",
       "  </tbody>\n",
       "</table>\n",
       "<p>5 rows × 52 columns</p>\n",
       "</div>"
      ],
      "text/plain": [
       "      mrn        Age        bmi  duration_symptoms      value  Date  Month  \\\n",
       "0  655528  62.321679  20.388645                  8  62.971715     2      7   \n",
       "1  729545  78.625586  27.554594                 20  58.688958    30      6   \n",
       "2  805568  70.460677  34.141729                  9  64.848642     7      7   \n",
       "3  895876  59.043149  19.833296                  7  62.823134    30      6   \n",
       "4  905164  90.477229  19.858003                 25  60.045890    27      6   \n",
       "\n",
       "   Year  sex.factor_Female  sex.factor_Male  ...  \\\n",
       "0  2020                  0                1  ...   \n",
       "1  2020                  1                0  ...   \n",
       "2  2020                  1                0  ...   \n",
       "3  2020                  0                1  ...   \n",
       "4  2020                  0                1  ...   \n",
       "\n",
       "   first_cxr_results___0.factor_Checked  \\\n",
       "0                                     0   \n",
       "1                                     0   \n",
       "2                                     0   \n",
       "3                                     0   \n",
       "4                                     0   \n",
       "\n",
       "   first_cxr_results___0.factor_Unchecked  \\\n",
       "0                                       1   \n",
       "1                                       1   \n",
       "2                                       1   \n",
       "3                                       1   \n",
       "4                                       1   \n",
       "\n",
       "   first_cxr_results___1.factor_Checked  \\\n",
       "0                                     0   \n",
       "1                                     0   \n",
       "2                                     0   \n",
       "3                                     1   \n",
       "4                                     0   \n",
       "\n",
       "   first_cxr_results___1.factor_Unchecked  \\\n",
       "0                                       1   \n",
       "1                                       1   \n",
       "2                                       1   \n",
       "3                                       0   \n",
       "4                                       1   \n",
       "\n",
       "   first_cxr_results___2.factor_Checked  \\\n",
       "0                                     1   \n",
       "1                                     1   \n",
       "2                                     1   \n",
       "3                                     0   \n",
       "4                                     1   \n",
       "\n",
       "   first_cxr_results___2.factor_Unchecked  \\\n",
       "0                                       0   \n",
       "1                                       0   \n",
       "2                                       0   \n",
       "3                                       1   \n",
       "4                                       0   \n",
       "\n",
       "   first_cxr_results___3.factor_Checked  \\\n",
       "0                                     0   \n",
       "1                                     0   \n",
       "2                                     0   \n",
       "3                                     0   \n",
       "4                                     0   \n",
       "\n",
       "   first_cxr_results___3.factor_Unchecked  Ed_before_order_set_No  \\\n",
       "0                                       1                       1   \n",
       "1                                       1                       0   \n",
       "2                                       1                       1   \n",
       "3                                       1                       1   \n",
       "4                                       1                       0   \n",
       "\n",
       "   Ed_before_order_set_Yes  \n",
       "0                        0  \n",
       "1                        1  \n",
       "2                        0  \n",
       "3                        0  \n",
       "4                        1  \n",
       "\n",
       "[5 rows x 52 columns]"
      ]
     },
     "execution_count": 71,
     "metadata": {},
     "output_type": "execute_result"
    }
   ],
   "source": [
    "x.head()"
   ]
  },
  {
   "cell_type": "code",
   "execution_count": 54,
   "metadata": {},
   "outputs": [
    {
     "data": {
      "text/plain": [
       "array([62.32167903, 78.62558567, 70.46067671, ..., 20.30180236,\n",
       "       98.24985839, 64.08661029])"
      ]
     },
     "execution_count": 54,
     "metadata": {},
     "output_type": "execute_result"
    }
   ],
   "source": [
    "x.Age.unique()"
   ]
  },
  {
   "cell_type": "code",
   "execution_count": 72,
   "metadata": {},
   "outputs": [
    {
     "data": {
      "text/html": [
       "<div>\n",
       "<style scoped>\n",
       "    .dataframe tbody tr th:only-of-type {\n",
       "        vertical-align: middle;\n",
       "    }\n",
       "\n",
       "    .dataframe tbody tr th {\n",
       "        vertical-align: top;\n",
       "    }\n",
       "\n",
       "    .dataframe thead th {\n",
       "        text-align: right;\n",
       "    }\n",
       "</style>\n",
       "<table border=\"1\" class=\"dataframe\">\n",
       "  <thead>\n",
       "    <tr style=\"text-align: right;\">\n",
       "      <th></th>\n",
       "      <th>mrn</th>\n",
       "      <th>Age</th>\n",
       "      <th>bmi</th>\n",
       "      <th>duration_symptoms</th>\n",
       "      <th>value</th>\n",
       "      <th>Date</th>\n",
       "      <th>Month</th>\n",
       "      <th>Year</th>\n",
       "      <th>sex.factor_Female</th>\n",
       "      <th>sex.factor_Male</th>\n",
       "      <th>...</th>\n",
       "      <th>first_cxr_results___0.factor_Checked</th>\n",
       "      <th>first_cxr_results___0.factor_Unchecked</th>\n",
       "      <th>first_cxr_results___1.factor_Checked</th>\n",
       "      <th>first_cxr_results___1.factor_Unchecked</th>\n",
       "      <th>first_cxr_results___2.factor_Checked</th>\n",
       "      <th>first_cxr_results___2.factor_Unchecked</th>\n",
       "      <th>first_cxr_results___3.factor_Checked</th>\n",
       "      <th>first_cxr_results___3.factor_Unchecked</th>\n",
       "      <th>Ed_before_order_set_No</th>\n",
       "      <th>Ed_before_order_set_Yes</th>\n",
       "    </tr>\n",
       "  </thead>\n",
       "  <tbody>\n",
       "    <tr>\n",
       "      <td>54</td>\n",
       "      <td>1591734</td>\n",
       "      <td>5.408467</td>\n",
       "      <td>27.883886</td>\n",
       "      <td>9</td>\n",
       "      <td>61.942665</td>\n",
       "      <td>7</td>\n",
       "      <td>7</td>\n",
       "      <td>2020</td>\n",
       "      <td>0</td>\n",
       "      <td>1</td>\n",
       "      <td>...</td>\n",
       "      <td>0</td>\n",
       "      <td>1</td>\n",
       "      <td>1</td>\n",
       "      <td>0</td>\n",
       "      <td>0</td>\n",
       "      <td>1</td>\n",
       "      <td>0</td>\n",
       "      <td>1</td>\n",
       "      <td>1</td>\n",
       "      <td>0</td>\n",
       "    </tr>\n",
       "  </tbody>\n",
       "</table>\n",
       "<p>1 rows × 52 columns</p>\n",
       "</div>"
      ],
      "text/plain": [
       "        mrn       Age        bmi  duration_symptoms      value  Date  Month  \\\n",
       "54  1591734  5.408467  27.883886                  9  61.942665     7      7   \n",
       "\n",
       "    Year  sex.factor_Female  sex.factor_Male  ...  \\\n",
       "54  2020                  0                1  ...   \n",
       "\n",
       "    first_cxr_results___0.factor_Checked  \\\n",
       "54                                     0   \n",
       "\n",
       "    first_cxr_results___0.factor_Unchecked  \\\n",
       "54                                       1   \n",
       "\n",
       "    first_cxr_results___1.factor_Checked  \\\n",
       "54                                     1   \n",
       "\n",
       "    first_cxr_results___1.factor_Unchecked  \\\n",
       "54                                       0   \n",
       "\n",
       "    first_cxr_results___2.factor_Checked  \\\n",
       "54                                     0   \n",
       "\n",
       "    first_cxr_results___2.factor_Unchecked  \\\n",
       "54                                       1   \n",
       "\n",
       "    first_cxr_results___3.factor_Checked  \\\n",
       "54                                     0   \n",
       "\n",
       "    first_cxr_results___3.factor_Unchecked  Ed_before_order_set_No  \\\n",
       "54                                       1                       1   \n",
       "\n",
       "    Ed_before_order_set_Yes  \n",
       "54                        0  \n",
       "\n",
       "[1 rows x 52 columns]"
      ]
     },
     "execution_count": 72,
     "metadata": {},
     "output_type": "execute_result"
    }
   ],
   "source": [
    "x[x.Age==x.Age.min()]"
   ]
  },
  {
   "cell_type": "code",
   "execution_count": 26,
   "metadata": {},
   "outputs": [],
   "source": [
    "#x.drop(index=845,axis=0,inplace=True)"
   ]
  },
  {
   "cell_type": "code",
   "execution_count": 30,
   "metadata": {},
   "outputs": [
    {
     "data": {
      "text/plain": [
       "(1344, 52)"
      ]
     },
     "execution_count": 30,
     "metadata": {},
     "output_type": "execute_result"
    }
   ],
   "source": [
    "x.shape"
   ]
  },
  {
   "cell_type": "code",
   "execution_count": 34,
   "metadata": {},
   "outputs": [],
   "source": [
    "x.drop(index=1344,inplace=True)"
   ]
  },
  {
   "cell_type": "code",
   "execution_count": 56,
   "metadata": {},
   "outputs": [],
   "source": [
    "best=SelectKBest(score_func=chi2,k=10)"
   ]
  },
  {
   "cell_type": "code",
   "execution_count": 57,
   "metadata": {
    "scrolled": true
   },
   "outputs": [],
   "source": [
    "fit=best.fit(x,y)"
   ]
  },
  {
   "cell_type": "code",
   "execution_count": 59,
   "metadata": {},
   "outputs": [],
   "source": [
    "score=pd.DataFrame(fit.scores_)"
   ]
  },
  {
   "cell_type": "code",
   "execution_count": 60,
   "metadata": {},
   "outputs": [],
   "source": [
    "feature=pd.DataFrame(x.columns)"
   ]
  },
  {
   "cell_type": "code",
   "execution_count": 63,
   "metadata": {},
   "outputs": [
    {
     "data": {
      "text/html": [
       "<div>\n",
       "<style scoped>\n",
       "    .dataframe tbody tr th:only-of-type {\n",
       "        vertical-align: middle;\n",
       "    }\n",
       "\n",
       "    .dataframe tbody tr th {\n",
       "        vertical-align: top;\n",
       "    }\n",
       "\n",
       "    .dataframe thead th {\n",
       "        text-align: right;\n",
       "    }\n",
       "</style>\n",
       "<table border=\"1\" class=\"dataframe\">\n",
       "  <thead>\n",
       "    <tr style=\"text-align: right;\">\n",
       "      <th></th>\n",
       "      <th>feature</th>\n",
       "      <th>score</th>\n",
       "    </tr>\n",
       "  </thead>\n",
       "  <tbody>\n",
       "    <tr>\n",
       "      <td>0</td>\n",
       "      <td>mrn</td>\n",
       "      <td>1.185625e+07</td>\n",
       "    </tr>\n",
       "    <tr>\n",
       "      <td>1</td>\n",
       "      <td>Age</td>\n",
       "      <td>8.852537e+02</td>\n",
       "    </tr>\n",
       "    <tr>\n",
       "      <td>2</td>\n",
       "      <td>bmi</td>\n",
       "      <td>1.498053e+02</td>\n",
       "    </tr>\n",
       "    <tr>\n",
       "      <td>3</td>\n",
       "      <td>duration_symptoms</td>\n",
       "      <td>6.552497e+01</td>\n",
       "    </tr>\n",
       "    <tr>\n",
       "      <td>5</td>\n",
       "      <td>Date</td>\n",
       "      <td>2.715241e+01</td>\n",
       "    </tr>\n",
       "    <tr>\n",
       "      <td>27</td>\n",
       "      <td>cancer_Yes</td>\n",
       "      <td>9.993819e+00</td>\n",
       "    </tr>\n",
       "    <tr>\n",
       "      <td>15</td>\n",
       "      <td>dm.factor_Yes</td>\n",
       "      <td>5.247080e+00</td>\n",
       "    </tr>\n",
       "    <tr>\n",
       "      <td>13</td>\n",
       "      <td>smoke_vape_Yes</td>\n",
       "      <td>4.705680e+00</td>\n",
       "    </tr>\n",
       "    <tr>\n",
       "      <td>51</td>\n",
       "      <td>Ed_before_order_set_Yes</td>\n",
       "      <td>2.989895e+00</td>\n",
       "    </tr>\n",
       "    <tr>\n",
       "      <td>14</td>\n",
       "      <td>dm.factor_No</td>\n",
       "      <td>2.368552e+00</td>\n",
       "    </tr>\n",
       "    <tr>\n",
       "      <td>31</td>\n",
       "      <td>symptoms___1.factor_Unchecked</td>\n",
       "      <td>2.361287e+00</td>\n",
       "    </tr>\n",
       "    <tr>\n",
       "      <td>28</td>\n",
       "      <td>any_immunosuppression_Yes</td>\n",
       "      <td>2.311161e+00</td>\n",
       "    </tr>\n",
       "    <tr>\n",
       "      <td>38</td>\n",
       "      <td>symptoms___8.factor_Checked</td>\n",
       "      <td>2.137184e+00</td>\n",
       "    </tr>\n",
       "    <tr>\n",
       "      <td>50</td>\n",
       "      <td>Ed_before_order_set_No</td>\n",
       "      <td>2.020602e+00</td>\n",
       "    </tr>\n",
       "    <tr>\n",
       "      <td>47</td>\n",
       "      <td>first_cxr_results___2.factor_Unchecked</td>\n",
       "      <td>1.925316e+00</td>\n",
       "    </tr>\n",
       "    <tr>\n",
       "      <td>12</td>\n",
       "      <td>smoke_vape_No</td>\n",
       "      <td>1.861749e+00</td>\n",
       "    </tr>\n",
       "    <tr>\n",
       "      <td>22</td>\n",
       "      <td>renal___2.factor_Checked</td>\n",
       "      <td>1.574544e+00</td>\n",
       "    </tr>\n",
       "    <tr>\n",
       "      <td>30</td>\n",
       "      <td>symptoms___1.factor_Checked</td>\n",
       "      <td>1.316082e+00</td>\n",
       "    </tr>\n",
       "    <tr>\n",
       "      <td>4</td>\n",
       "      <td>value</td>\n",
       "      <td>1.166296e+00</td>\n",
       "    </tr>\n",
       "    <tr>\n",
       "      <td>48</td>\n",
       "      <td>first_cxr_results___3.factor_Checked</td>\n",
       "      <td>1.089848e+00</td>\n",
       "    </tr>\n",
       "    <tr>\n",
       "      <td>34</td>\n",
       "      <td>symptoms___10.factor_Checked</td>\n",
       "      <td>1.027240e+00</td>\n",
       "    </tr>\n",
       "    <tr>\n",
       "      <td>26</td>\n",
       "      <td>cancer_No</td>\n",
       "      <td>8.207484e-01</td>\n",
       "    </tr>\n",
       "    <tr>\n",
       "      <td>20</td>\n",
       "      <td>renal___1.factor_Checked</td>\n",
       "      <td>7.911316e-01</td>\n",
       "    </tr>\n",
       "    <tr>\n",
       "      <td>46</td>\n",
       "      <td>first_cxr_results___2.factor_Checked</td>\n",
       "      <td>7.124260e-01</td>\n",
       "    </tr>\n",
       "    <tr>\n",
       "      <td>44</td>\n",
       "      <td>first_cxr_results___1.factor_Checked</td>\n",
       "      <td>5.735023e-01</td>\n",
       "    </tr>\n",
       "    <tr>\n",
       "      <td>39</td>\n",
       "      <td>symptoms___8.factor_Unchecked</td>\n",
       "      <td>5.126086e-01</td>\n",
       "    </tr>\n",
       "    <tr>\n",
       "      <td>35</td>\n",
       "      <td>symptoms___10.factor_Unchecked</td>\n",
       "      <td>3.492411e-01</td>\n",
       "    </tr>\n",
       "    <tr>\n",
       "      <td>8</td>\n",
       "      <td>sex.factor_Female</td>\n",
       "      <td>2.864191e-01</td>\n",
       "    </tr>\n",
       "    <tr>\n",
       "      <td>18</td>\n",
       "      <td>pulm___1.factor_Checked</td>\n",
       "      <td>2.037707e-01</td>\n",
       "    </tr>\n",
       "    <tr>\n",
       "      <td>9</td>\n",
       "      <td>sex.factor_Male</td>\n",
       "      <td>2.027134e-01</td>\n",
       "    </tr>\n",
       "    <tr>\n",
       "      <td>36</td>\n",
       "      <td>symptoms___9.factor_Checked</td>\n",
       "      <td>1.897435e-01</td>\n",
       "    </tr>\n",
       "    <tr>\n",
       "      <td>41</td>\n",
       "      <td>symptoms___3.factor_Unchecked</td>\n",
       "      <td>1.872237e-01</td>\n",
       "    </tr>\n",
       "    <tr>\n",
       "      <td>6</td>\n",
       "      <td>Month</td>\n",
       "      <td>1.678791e-01</td>\n",
       "    </tr>\n",
       "    <tr>\n",
       "      <td>42</td>\n",
       "      <td>first_cxr_results___0.factor_Checked</td>\n",
       "      <td>1.345177e-01</td>\n",
       "    </tr>\n",
       "    <tr>\n",
       "      <td>40</td>\n",
       "      <td>symptoms___3.factor_Checked</td>\n",
       "      <td>1.200152e-01</td>\n",
       "    </tr>\n",
       "    <tr>\n",
       "      <td>23</td>\n",
       "      <td>renal___2.factor_Unchecked</td>\n",
       "      <td>9.965471e-02</td>\n",
       "    </tr>\n",
       "    <tr>\n",
       "      <td>45</td>\n",
       "      <td>first_cxr_results___1.factor_Unchecked</td>\n",
       "      <td>7.750032e-02</td>\n",
       "    </tr>\n",
       "    <tr>\n",
       "      <td>29</td>\n",
       "      <td>any_immunosuppression_unknown/No</td>\n",
       "      <td>7.089450e-02</td>\n",
       "    </tr>\n",
       "    <tr>\n",
       "      <td>49</td>\n",
       "      <td>first_cxr_results___3.factor_Unchecked</td>\n",
       "      <td>6.350297e-02</td>\n",
       "    </tr>\n",
       "    <tr>\n",
       "      <td>37</td>\n",
       "      <td>symptoms___9.factor_Unchecked</td>\n",
       "      <td>4.770088e-02</td>\n",
       "    </tr>\n",
       "    <tr>\n",
       "      <td>33</td>\n",
       "      <td>symptoms___2.factor_Unchecked</td>\n",
       "      <td>4.708579e-02</td>\n",
       "    </tr>\n",
       "    <tr>\n",
       "      <td>21</td>\n",
       "      <td>renal___1.factor_Unchecked</td>\n",
       "      <td>3.503846e-02</td>\n",
       "    </tr>\n",
       "    <tr>\n",
       "      <td>25</td>\n",
       "      <td>cad.factor_Yes</td>\n",
       "      <td>2.690617e-02</td>\n",
       "    </tr>\n",
       "    <tr>\n",
       "      <td>32</td>\n",
       "      <td>symptoms___2.factor_Checked</td>\n",
       "      <td>2.088768e-02</td>\n",
       "    </tr>\n",
       "    <tr>\n",
       "      <td>43</td>\n",
       "      <td>first_cxr_results___0.factor_Unchecked</td>\n",
       "      <td>1.921682e-02</td>\n",
       "    </tr>\n",
       "    <tr>\n",
       "      <td>19</td>\n",
       "      <td>pulm___1.factor_Unchecked</td>\n",
       "      <td>1.069118e-02</td>\n",
       "    </tr>\n",
       "    <tr>\n",
       "      <td>16</td>\n",
       "      <td>htn.factor_No</td>\n",
       "      <td>6.366963e-03</td>\n",
       "    </tr>\n",
       "    <tr>\n",
       "      <td>24</td>\n",
       "      <td>cad.factor_No</td>\n",
       "      <td>5.730916e-03</td>\n",
       "    </tr>\n",
       "    <tr>\n",
       "      <td>17</td>\n",
       "      <td>htn.factor_Yes</td>\n",
       "      <td>5.073142e-03</td>\n",
       "    </tr>\n",
       "    <tr>\n",
       "      <td>10</td>\n",
       "      <td>hypoxia_ed.factor_No</td>\n",
       "      <td>4.338413e-03</td>\n",
       "    </tr>\n",
       "    <tr>\n",
       "      <td>11</td>\n",
       "      <td>hypoxia_ed.factor_Yes</td>\n",
       "      <td>3.638094e-03</td>\n",
       "    </tr>\n",
       "    <tr>\n",
       "      <td>7</td>\n",
       "      <td>Year</td>\n",
       "      <td>0.000000e+00</td>\n",
       "    </tr>\n",
       "  </tbody>\n",
       "</table>\n",
       "</div>"
      ],
      "text/plain": [
       "                                   feature         score\n",
       "0                                      mrn  1.185625e+07\n",
       "1                                      Age  8.852537e+02\n",
       "2                                      bmi  1.498053e+02\n",
       "3                        duration_symptoms  6.552497e+01\n",
       "5                                     Date  2.715241e+01\n",
       "27                              cancer_Yes  9.993819e+00\n",
       "15                           dm.factor_Yes  5.247080e+00\n",
       "13                          smoke_vape_Yes  4.705680e+00\n",
       "51                 Ed_before_order_set_Yes  2.989895e+00\n",
       "14                            dm.factor_No  2.368552e+00\n",
       "31           symptoms___1.factor_Unchecked  2.361287e+00\n",
       "28               any_immunosuppression_Yes  2.311161e+00\n",
       "38             symptoms___8.factor_Checked  2.137184e+00\n",
       "50                  Ed_before_order_set_No  2.020602e+00\n",
       "47  first_cxr_results___2.factor_Unchecked  1.925316e+00\n",
       "12                           smoke_vape_No  1.861749e+00\n",
       "22                renal___2.factor_Checked  1.574544e+00\n",
       "30             symptoms___1.factor_Checked  1.316082e+00\n",
       "4                                    value  1.166296e+00\n",
       "48    first_cxr_results___3.factor_Checked  1.089848e+00\n",
       "34            symptoms___10.factor_Checked  1.027240e+00\n",
       "26                               cancer_No  8.207484e-01\n",
       "20                renal___1.factor_Checked  7.911316e-01\n",
       "46    first_cxr_results___2.factor_Checked  7.124260e-01\n",
       "44    first_cxr_results___1.factor_Checked  5.735023e-01\n",
       "39           symptoms___8.factor_Unchecked  5.126086e-01\n",
       "35          symptoms___10.factor_Unchecked  3.492411e-01\n",
       "8                        sex.factor_Female  2.864191e-01\n",
       "18                 pulm___1.factor_Checked  2.037707e-01\n",
       "9                          sex.factor_Male  2.027134e-01\n",
       "36             symptoms___9.factor_Checked  1.897435e-01\n",
       "41           symptoms___3.factor_Unchecked  1.872237e-01\n",
       "6                                    Month  1.678791e-01\n",
       "42    first_cxr_results___0.factor_Checked  1.345177e-01\n",
       "40             symptoms___3.factor_Checked  1.200152e-01\n",
       "23              renal___2.factor_Unchecked  9.965471e-02\n",
       "45  first_cxr_results___1.factor_Unchecked  7.750032e-02\n",
       "29        any_immunosuppression_unknown/No  7.089450e-02\n",
       "49  first_cxr_results___3.factor_Unchecked  6.350297e-02\n",
       "37           symptoms___9.factor_Unchecked  4.770088e-02\n",
       "33           symptoms___2.factor_Unchecked  4.708579e-02\n",
       "21              renal___1.factor_Unchecked  3.503846e-02\n",
       "25                          cad.factor_Yes  2.690617e-02\n",
       "32             symptoms___2.factor_Checked  2.088768e-02\n",
       "43  first_cxr_results___0.factor_Unchecked  1.921682e-02\n",
       "19               pulm___1.factor_Unchecked  1.069118e-02\n",
       "16                           htn.factor_No  6.366963e-03\n",
       "24                           cad.factor_No  5.730916e-03\n",
       "17                          htn.factor_Yes  5.073142e-03\n",
       "10                    hypoxia_ed.factor_No  4.338413e-03\n",
       "11                   hypoxia_ed.factor_Yes  3.638094e-03\n",
       "7                                     Year  0.000000e+00"
      ]
     },
     "execution_count": 63,
     "metadata": {},
     "output_type": "execute_result"
    }
   ],
   "source": [
    "data=pd.concat([feature,score],axis=1)\n",
    "data.columns=['feature','score']\n",
    "data.sort_values(by='score',ascending=False)"
   ]
  },
  {
   "cell_type": "code",
   "execution_count": 65,
   "metadata": {},
   "outputs": [
    {
     "data": {
      "text/html": [
       "<div>\n",
       "<style scoped>\n",
       "    .dataframe tbody tr th:only-of-type {\n",
       "        vertical-align: middle;\n",
       "    }\n",
       "\n",
       "    .dataframe tbody tr th {\n",
       "        vertical-align: top;\n",
       "    }\n",
       "\n",
       "    .dataframe thead th {\n",
       "        text-align: right;\n",
       "    }\n",
       "</style>\n",
       "<table border=\"1\" class=\"dataframe\">\n",
       "  <thead>\n",
       "    <tr style=\"text-align: right;\">\n",
       "      <th></th>\n",
       "      <th>feature</th>\n",
       "      <th>score</th>\n",
       "    </tr>\n",
       "  </thead>\n",
       "  <tbody>\n",
       "    <tr>\n",
       "      <td>0</td>\n",
       "      <td>mrn</td>\n",
       "      <td>1.185625e+07</td>\n",
       "    </tr>\n",
       "    <tr>\n",
       "      <td>1</td>\n",
       "      <td>Age</td>\n",
       "      <td>8.852537e+02</td>\n",
       "    </tr>\n",
       "    <tr>\n",
       "      <td>2</td>\n",
       "      <td>bmi</td>\n",
       "      <td>1.498053e+02</td>\n",
       "    </tr>\n",
       "    <tr>\n",
       "      <td>3</td>\n",
       "      <td>duration_symptoms</td>\n",
       "      <td>6.552497e+01</td>\n",
       "    </tr>\n",
       "    <tr>\n",
       "      <td>5</td>\n",
       "      <td>Date</td>\n",
       "      <td>2.715241e+01</td>\n",
       "    </tr>\n",
       "    <tr>\n",
       "      <td>27</td>\n",
       "      <td>cancer_Yes</td>\n",
       "      <td>9.993819e+00</td>\n",
       "    </tr>\n",
       "    <tr>\n",
       "      <td>15</td>\n",
       "      <td>dm.factor_Yes</td>\n",
       "      <td>5.247080e+00</td>\n",
       "    </tr>\n",
       "    <tr>\n",
       "      <td>13</td>\n",
       "      <td>smoke_vape_Yes</td>\n",
       "      <td>4.705680e+00</td>\n",
       "    </tr>\n",
       "    <tr>\n",
       "      <td>51</td>\n",
       "      <td>Ed_before_order_set_Yes</td>\n",
       "      <td>2.989895e+00</td>\n",
       "    </tr>\n",
       "    <tr>\n",
       "      <td>14</td>\n",
       "      <td>dm.factor_No</td>\n",
       "      <td>2.368552e+00</td>\n",
       "    </tr>\n",
       "  </tbody>\n",
       "</table>\n",
       "</div>"
      ],
      "text/plain": [
       "                    feature         score\n",
       "0                       mrn  1.185625e+07\n",
       "1                       Age  8.852537e+02\n",
       "2                       bmi  1.498053e+02\n",
       "3         duration_symptoms  6.552497e+01\n",
       "5                      Date  2.715241e+01\n",
       "27               cancer_Yes  9.993819e+00\n",
       "15            dm.factor_Yes  5.247080e+00\n",
       "13           smoke_vape_Yes  4.705680e+00\n",
       "51  Ed_before_order_set_Yes  2.989895e+00\n",
       "14             dm.factor_No  2.368552e+00"
      ]
     },
     "execution_count": 65,
     "metadata": {},
     "output_type": "execute_result"
    }
   ],
   "source": [
    "data.nlargest(10,'score')"
   ]
  },
  {
   "cell_type": "code",
   "execution_count": 38,
   "metadata": {},
   "outputs": [],
   "source": [
    "#from sklearn.decomposition import PCA\n",
    "#pca = PCA(n_components=10)\n",
    "#pca.fit(x)\n",
    "#x_pca = pca.transform(x)\n",
    "#print(x.shape)\n",
    "#print(\"-----\")\n",
    "#print(x_pca.shape)\n",
    "#pca.components_"
   ]
  },
  {
   "cell_type": "code",
   "execution_count": 74,
   "metadata": {},
   "outputs": [
    {
     "data": {
      "text/html": [
       "<div>\n",
       "<style scoped>\n",
       "    .dataframe tbody tr th:only-of-type {\n",
       "        vertical-align: middle;\n",
       "    }\n",
       "\n",
       "    .dataframe tbody tr th {\n",
       "        vertical-align: top;\n",
       "    }\n",
       "\n",
       "    .dataframe thead th {\n",
       "        text-align: right;\n",
       "    }\n",
       "</style>\n",
       "<table border=\"1\" class=\"dataframe\">\n",
       "  <thead>\n",
       "    <tr style=\"text-align: right;\">\n",
       "      <th></th>\n",
       "      <th>mrn</th>\n",
       "      <th>Age</th>\n",
       "      <th>bmi</th>\n",
       "      <th>duration_symptoms</th>\n",
       "      <th>Date</th>\n",
       "      <th>cancer_Yes</th>\n",
       "      <th>dm.factor_Yes</th>\n",
       "      <th>smoke_vape_Yes</th>\n",
       "      <th>Ed_before_order_set_Yes</th>\n",
       "      <th>dm.factor_No</th>\n",
       "    </tr>\n",
       "  </thead>\n",
       "  <tbody>\n",
       "    <tr>\n",
       "      <td>0</td>\n",
       "      <td>655528</td>\n",
       "      <td>62.321679</td>\n",
       "      <td>20.388645</td>\n",
       "      <td>8</td>\n",
       "      <td>2</td>\n",
       "      <td>0</td>\n",
       "      <td>0</td>\n",
       "      <td>0</td>\n",
       "      <td>0</td>\n",
       "      <td>1</td>\n",
       "    </tr>\n",
       "    <tr>\n",
       "      <td>1</td>\n",
       "      <td>729545</td>\n",
       "      <td>78.625586</td>\n",
       "      <td>27.554594</td>\n",
       "      <td>20</td>\n",
       "      <td>30</td>\n",
       "      <td>0</td>\n",
       "      <td>1</td>\n",
       "      <td>0</td>\n",
       "      <td>1</td>\n",
       "      <td>0</td>\n",
       "    </tr>\n",
       "    <tr>\n",
       "      <td>2</td>\n",
       "      <td>805568</td>\n",
       "      <td>70.460677</td>\n",
       "      <td>34.141729</td>\n",
       "      <td>9</td>\n",
       "      <td>7</td>\n",
       "      <td>0</td>\n",
       "      <td>1</td>\n",
       "      <td>0</td>\n",
       "      <td>0</td>\n",
       "      <td>0</td>\n",
       "    </tr>\n",
       "    <tr>\n",
       "      <td>3</td>\n",
       "      <td>895876</td>\n",
       "      <td>59.043149</td>\n",
       "      <td>19.833296</td>\n",
       "      <td>7</td>\n",
       "      <td>30</td>\n",
       "      <td>0</td>\n",
       "      <td>1</td>\n",
       "      <td>1</td>\n",
       "      <td>0</td>\n",
       "      <td>0</td>\n",
       "    </tr>\n",
       "    <tr>\n",
       "      <td>4</td>\n",
       "      <td>905164</td>\n",
       "      <td>90.477229</td>\n",
       "      <td>19.858003</td>\n",
       "      <td>25</td>\n",
       "      <td>27</td>\n",
       "      <td>0</td>\n",
       "      <td>1</td>\n",
       "      <td>0</td>\n",
       "      <td>1</td>\n",
       "      <td>0</td>\n",
       "    </tr>\n",
       "  </tbody>\n",
       "</table>\n",
       "</div>"
      ],
      "text/plain": [
       "      mrn        Age        bmi  duration_symptoms  Date  cancer_Yes  \\\n",
       "0  655528  62.321679  20.388645                  8     2           0   \n",
       "1  729545  78.625586  27.554594                 20    30           0   \n",
       "2  805568  70.460677  34.141729                  9     7           0   \n",
       "3  895876  59.043149  19.833296                  7    30           0   \n",
       "4  905164  90.477229  19.858003                 25    27           0   \n",
       "\n",
       "   dm.factor_Yes  smoke_vape_Yes  Ed_before_order_set_Yes  dm.factor_No  \n",
       "0              0               0                        0             1  \n",
       "1              1               0                        1             0  \n",
       "2              1               0                        0             0  \n",
       "3              1               1                        0             0  \n",
       "4              1               0                        1             0  "
      ]
     },
     "execution_count": 74,
     "metadata": {},
     "output_type": "execute_result"
    }
   ],
   "source": [
    "x=x[['mrn','Age','bmi','duration_symptoms','Date','cancer_Yes','dm.factor_Yes','smoke_vape_Yes',\n",
    "     'Ed_before_order_set_Yes','dm.factor_No']]\n",
    "x.head()"
   ]
  },
  {
   "cell_type": "code",
   "execution_count": 79,
   "metadata": {},
   "outputs": [
    {
     "data": {
      "text/html": [
       "<div>\n",
       "<style scoped>\n",
       "    .dataframe tbody tr th:only-of-type {\n",
       "        vertical-align: middle;\n",
       "    }\n",
       "\n",
       "    .dataframe tbody tr th {\n",
       "        vertical-align: top;\n",
       "    }\n",
       "\n",
       "    .dataframe thead th {\n",
       "        text-align: right;\n",
       "    }\n",
       "</style>\n",
       "<table border=\"1\" class=\"dataframe\">\n",
       "  <thead>\n",
       "    <tr style=\"text-align: right;\">\n",
       "      <th></th>\n",
       "      <th>event</th>\n",
       "    </tr>\n",
       "  </thead>\n",
       "  <tbody>\n",
       "    <tr>\n",
       "      <td>0</td>\n",
       "      <td>1</td>\n",
       "    </tr>\n",
       "    <tr>\n",
       "      <td>1</td>\n",
       "      <td>1</td>\n",
       "    </tr>\n",
       "    <tr>\n",
       "      <td>2</td>\n",
       "      <td>0</td>\n",
       "    </tr>\n",
       "    <tr>\n",
       "      <td>3</td>\n",
       "      <td>0</td>\n",
       "    </tr>\n",
       "    <tr>\n",
       "      <td>4</td>\n",
       "      <td>0</td>\n",
       "    </tr>\n",
       "  </tbody>\n",
       "</table>\n",
       "</div>"
      ],
      "text/plain": [
       "   event\n",
       "0      1\n",
       "1      1\n",
       "2      0\n",
       "3      0\n",
       "4      0"
      ]
     },
     "execution_count": 79,
     "metadata": {},
     "output_type": "execute_result"
    }
   ],
   "source": [
    "y.head()"
   ]
  },
  {
   "cell_type": "code",
   "execution_count": 78,
   "metadata": {},
   "outputs": [],
   "source": [
    "y['event']=y['event'].replace(to_replace=['Yes','No'],value=[1,0],regex=True)"
   ]
  },
  {
   "cell_type": "code",
   "execution_count": 89,
   "metadata": {},
   "outputs": [
    {
     "data": {
      "text/plain": [
       "mrn                          int64\n",
       "Age                        float64\n",
       "bmi                        float64\n",
       "duration_symptoms            int64\n",
       "Date                         int64\n",
       "cancer_Yes                   uint8\n",
       "dm.factor_Yes                uint8\n",
       "smoke_vape_Yes               uint8\n",
       "Ed_before_order_set_Yes      uint8\n",
       "dm.factor_No                 uint8\n",
       "dtype: object"
      ]
     },
     "execution_count": 89,
     "metadata": {},
     "output_type": "execute_result"
    }
   ],
   "source": [
    "x.dtypes"
   ]
  },
  {
   "cell_type": "code",
   "execution_count": 91,
   "metadata": {},
   "outputs": [
    {
     "data": {
      "text/html": [
       "<div>\n",
       "<style scoped>\n",
       "    .dataframe tbody tr th:only-of-type {\n",
       "        vertical-align: middle;\n",
       "    }\n",
       "\n",
       "    .dataframe tbody tr th {\n",
       "        vertical-align: top;\n",
       "    }\n",
       "\n",
       "    .dataframe thead th {\n",
       "        text-align: right;\n",
       "    }\n",
       "</style>\n",
       "<table border=\"1\" class=\"dataframe\">\n",
       "  <thead>\n",
       "    <tr style=\"text-align: right;\">\n",
       "      <th></th>\n",
       "      <th>Date</th>\n",
       "      <th>cancer_Yes</th>\n",
       "      <th>dm.factor_Yes</th>\n",
       "      <th>smoke_vape_Yes</th>\n",
       "      <th>Ed_before_order_set_Yes</th>\n",
       "      <th>dm.factor_No</th>\n",
       "    </tr>\n",
       "  </thead>\n",
       "  <tbody>\n",
       "    <tr>\n",
       "      <td>0</td>\n",
       "      <td>2</td>\n",
       "      <td>0</td>\n",
       "      <td>0</td>\n",
       "      <td>0</td>\n",
       "      <td>0</td>\n",
       "      <td>1</td>\n",
       "    </tr>\n",
       "    <tr>\n",
       "      <td>1</td>\n",
       "      <td>30</td>\n",
       "      <td>0</td>\n",
       "      <td>1</td>\n",
       "      <td>0</td>\n",
       "      <td>1</td>\n",
       "      <td>0</td>\n",
       "    </tr>\n",
       "    <tr>\n",
       "      <td>2</td>\n",
       "      <td>7</td>\n",
       "      <td>0</td>\n",
       "      <td>1</td>\n",
       "      <td>0</td>\n",
       "      <td>0</td>\n",
       "      <td>0</td>\n",
       "    </tr>\n",
       "    <tr>\n",
       "      <td>3</td>\n",
       "      <td>30</td>\n",
       "      <td>0</td>\n",
       "      <td>1</td>\n",
       "      <td>1</td>\n",
       "      <td>0</td>\n",
       "      <td>0</td>\n",
       "    </tr>\n",
       "    <tr>\n",
       "      <td>4</td>\n",
       "      <td>27</td>\n",
       "      <td>0</td>\n",
       "      <td>1</td>\n",
       "      <td>0</td>\n",
       "      <td>1</td>\n",
       "      <td>0</td>\n",
       "    </tr>\n",
       "    <tr>\n",
       "      <td>...</td>\n",
       "      <td>...</td>\n",
       "      <td>...</td>\n",
       "      <td>...</td>\n",
       "      <td>...</td>\n",
       "      <td>...</td>\n",
       "      <td>...</td>\n",
       "    </tr>\n",
       "    <tr>\n",
       "      <td>1339</td>\n",
       "      <td>4</td>\n",
       "      <td>0</td>\n",
       "      <td>1</td>\n",
       "      <td>0</td>\n",
       "      <td>0</td>\n",
       "      <td>0</td>\n",
       "    </tr>\n",
       "    <tr>\n",
       "      <td>1340</td>\n",
       "      <td>27</td>\n",
       "      <td>0</td>\n",
       "      <td>1</td>\n",
       "      <td>1</td>\n",
       "      <td>1</td>\n",
       "      <td>0</td>\n",
       "    </tr>\n",
       "    <tr>\n",
       "      <td>1341</td>\n",
       "      <td>2</td>\n",
       "      <td>0</td>\n",
       "      <td>0</td>\n",
       "      <td>1</td>\n",
       "      <td>0</td>\n",
       "      <td>1</td>\n",
       "    </tr>\n",
       "    <tr>\n",
       "      <td>1342</td>\n",
       "      <td>28</td>\n",
       "      <td>0</td>\n",
       "      <td>0</td>\n",
       "      <td>0</td>\n",
       "      <td>1</td>\n",
       "      <td>1</td>\n",
       "    </tr>\n",
       "    <tr>\n",
       "      <td>1343</td>\n",
       "      <td>26</td>\n",
       "      <td>0</td>\n",
       "      <td>0</td>\n",
       "      <td>1</td>\n",
       "      <td>0</td>\n",
       "      <td>1</td>\n",
       "    </tr>\n",
       "  </tbody>\n",
       "</table>\n",
       "<p>1344 rows × 6 columns</p>\n",
       "</div>"
      ],
      "text/plain": [
       "      Date  cancer_Yes  dm.factor_Yes  smoke_vape_Yes  \\\n",
       "0        2           0              0               0   \n",
       "1       30           0              1               0   \n",
       "2        7           0              1               0   \n",
       "3       30           0              1               1   \n",
       "4       27           0              1               0   \n",
       "...    ...         ...            ...             ...   \n",
       "1339     4           0              1               0   \n",
       "1340    27           0              1               1   \n",
       "1341     2           0              0               1   \n",
       "1342    28           0              0               0   \n",
       "1343    26           0              0               1   \n",
       "\n",
       "      Ed_before_order_set_Yes  dm.factor_No  \n",
       "0                           0             1  \n",
       "1                           1             0  \n",
       "2                           0             0  \n",
       "3                           0             0  \n",
       "4                           1             0  \n",
       "...                       ...           ...  \n",
       "1339                        0             0  \n",
       "1340                        1             0  \n",
       "1341                        0             1  \n",
       "1342                        1             1  \n",
       "1343                        0             1  \n",
       "\n",
       "[1344 rows x 6 columns]"
      ]
     },
     "execution_count": 91,
     "metadata": {},
     "output_type": "execute_result"
    }
   ],
   "source": [
    "x[['Date','cancer_Yes','dm.factor_Yes','smoke_vape_Yes','Ed_before_order_set_Yes','dm.factor_No']].astype(int)"
   ]
  },
  {
   "cell_type": "code",
   "execution_count": 99,
   "metadata": {},
   "outputs": [],
   "source": [
    "x['Age']=x['Age'].astype(int)"
   ]
  },
  {
   "cell_type": "code",
   "execution_count": 100,
   "metadata": {},
   "outputs": [
    {
     "data": {
      "text/plain": [
       "mrn                          int64\n",
       "Age                          int32\n",
       "bmi                        float64\n",
       "duration_symptoms            int64\n",
       "Date                         int64\n",
       "cancer_Yes                   uint8\n",
       "dm.factor_Yes                uint8\n",
       "smoke_vape_Yes               uint8\n",
       "Ed_before_order_set_Yes      uint8\n",
       "dm.factor_No                 uint8\n",
       "dtype: object"
      ]
     },
     "execution_count": 100,
     "metadata": {},
     "output_type": "execute_result"
    }
   ],
   "source": [
    "x.dtypes"
   ]
  },
  {
   "cell_type": "code",
   "execution_count": 101,
   "metadata": {},
   "outputs": [
    {
     "data": {
      "text/plain": [
       "array([ 62,  78,  70,  59,  90,  72,  47,  76,  55,  99,  31,  85,  56,\n",
       "        51,  66,  41,  57,  42,  16,  83,  82,  74,  23,  77,  61,  68,\n",
       "        17,  50,  48,  49,  64,  91,  79,  65,  71,  34,  40,  73,  29,\n",
       "         5,  58,  52,  88,  60,  81,  86,  53,  69,  80,  98,  84,  37,\n",
       "        44,  75,  67, 103,  92,  36,  54,  33,  95,  43,  87,  63,  30,\n",
       "        46, 107,  38,  20,  97,  27,  89,  35,  96,  93,  28,  32,  39,\n",
       "       101,  94,  18,  24,  26,  25,  45,  22, 100, 102, 108, 113],\n",
       "      dtype=int64)"
      ]
     },
     "execution_count": 101,
     "metadata": {},
     "output_type": "execute_result"
    }
   ],
   "source": [
    "x['Age'].unique()"
   ]
  },
  {
   "cell_type": "code",
   "execution_count": 102,
   "metadata": {},
   "outputs": [],
   "source": [
    "from sklearn.model_selection import train_test_split\n",
    "xtrain,xtest,ytrain,ytest=train_test_split(x,y)"
   ]
  },
  {
   "cell_type": "code",
   "execution_count": null,
   "metadata": {},
   "outputs": [],
   "source": []
  },
  {
   "cell_type": "code",
   "execution_count": 103,
   "metadata": {},
   "outputs": [
    {
     "data": {
      "text/plain": [
       "LogisticRegression()"
      ]
     },
     "execution_count": 103,
     "metadata": {},
     "output_type": "execute_result"
    }
   ],
   "source": [
    "from sklearn.linear_model import LogisticRegression\n",
    "lr_model=LogisticRegression()\n",
    "lr_model.fit(xtrain,ytrain)"
   ]
  },
  {
   "cell_type": "code",
   "execution_count": 104,
   "metadata": {},
   "outputs": [],
   "source": [
    "y_pred=lr_model.predict(xtest)"
   ]
  },
  {
   "cell_type": "code",
   "execution_count": 105,
   "metadata": {},
   "outputs": [
    {
     "name": "stdout",
     "output_type": "stream",
     "text": [
      "score of LogisticRegression is 51.19%\n"
     ]
    }
   ],
   "source": [
    "print(\"score of LogisticRegression is {:.2f}%\".format(accuracy_score(ytest,y_pred)*100))"
   ]
  },
  {
   "cell_type": "code",
   "execution_count": 107,
   "metadata": {},
   "outputs": [
    {
     "data": {
      "text/plain": [
       "<sklearn.metrics._plot.confusion_matrix.ConfusionMatrixDisplay at 0x22d7d2a0708>"
      ]
     },
     "execution_count": 107,
     "metadata": {},
     "output_type": "execute_result"
    },
    {
     "data": {
      "image/png": "[encoded data removed]",
      "text/plain": [
       "<Figure size 432x288 with 2 Axes>"
      ]
     },
     "metadata": {
      "needs_background": "light"
     },
     "output_type": "display_data"
    }
   ],
   "source": [
    "plot_confusion_matrix(lr_model,xtest,ytest)"
   ]
  },
  {
   "cell_type": "code",
   "execution_count": 108,
   "metadata": {},
   "outputs": [
    {
     "data": {
      "text/plain": [
       "DecisionTreeClassifier()"
      ]
     },
     "execution_count": 108,
     "metadata": {},
     "output_type": "execute_result"
    }
   ],
   "source": [
    "from sklearn.tree import DecisionTreeClassifier\n",
    "dte=DecisionTreeClassifier()\n",
    "dte.fit(xtrain,ytrain)"
   ]
  },
  {
   "cell_type": "code",
   "execution_count": 109,
   "metadata": {},
   "outputs": [],
   "source": [
    "y_pred2=dte.predict(xtest)"
   ]
  },
  {
   "cell_type": "code",
   "execution_count": 110,
   "metadata": {},
   "outputs": [
    {
     "name": "stdout",
     "output_type": "stream",
     "text": [
      "accuracy is 60.42%\n"
     ]
    }
   ],
   "source": [
    "print(\"accuracy is {:.2f}%\".format(accuracy_score(ytest,y_pred2)*100))"
   ]
  },
  {
   "cell_type": "code",
   "execution_count": 111,
   "metadata": {},
   "outputs": [
    {
     "data": {
      "text/plain": [
       "<sklearn.metrics._plot.confusion_matrix.ConfusionMatrixDisplay at 0x22d7d3eadc8>"
      ]
     },
     "execution_count": 111,
     "metadata": {},
     "output_type": "execute_result"
    },
    {
     "data": {
      "image/png": "[encoded data removed]",
      "text/plain": [
       "<Figure size 432x288 with 2 Axes>"
      ]
     },
     "metadata": {
      "needs_background": "light"
     },
     "output_type": "display_data"
    }
   ],
   "source": [
    "plot_confusion_matrix(dte,xtest,ytest)"
   ]
  },
  {
   "cell_type": "code",
   "execution_count": 112,
   "metadata": {},
   "outputs": [
    {
     "data": {
      "text/plain": [
       "RandomForestClassifier(n_estimators=10)"
      ]
     },
     "execution_count": 112,
     "metadata": {},
     "output_type": "execute_result"
    }
   ],
   "source": [
    "from sklearn.ensemble import RandomForestClassifier\n",
    "rfe=RandomForestClassifier(n_estimators=10)\n",
    "rfe.fit(xtrain,ytrain)"
   ]
  },
  {
   "cell_type": "code",
   "execution_count": 113,
   "metadata": {},
   "outputs": [],
   "source": [
    "y_pred3=rfe.predict(xtest)"
   ]
  },
  {
   "cell_type": "code",
   "execution_count": 114,
   "metadata": {},
   "outputs": [
    {
     "name": "stdout",
     "output_type": "stream",
     "text": [
      "accuracy is 68.45%\n"
     ]
    }
   ],
   "source": [
    "print(\"accuracy is {:.2f}%\".format(accuracy_score(ytest,y_pred3)*100))"
   ]
  },
  {
   "cell_type": "code",
   "execution_count": 119,
   "metadata": {},
   "outputs": [
    {
     "data": {
      "text/plain": [
       "<sklearn.metrics._plot.confusion_matrix.ConfusionMatrixDisplay at 0x22d7e743f88>"
      ]
     },
     "execution_count": 119,
     "metadata": {},
     "output_type": "execute_result"
    },
    {
     "data": {
      "image/png": "[encoded data removed]",
      "text/plain": [
       "<Figure size 432x288 with 2 Axes>"
      ]
     },
     "metadata": {
      "needs_background": "light"
     },
     "output_type": "display_data"
    }
   ],
   "source": [
    "plot_confusion_matrix(rfe,xtest,ytest)"
   ]
  },
  {
   "cell_type": "code",
   "execution_count": 115,
   "metadata": {},
   "outputs": [
    {
     "name": "stdout",
     "output_type": "stream",
     "text": [
      "[13:01:35] WARNING: C:/Users/Administrator/workspace/xgboost-win64_release_1.4.0/src/learner.cc:1095: Starting in XGBoost 1.3.0, the default evaluation metric used with the objective 'binary:logistic' was changed from 'error' to 'logloss'. Explicitly set eval_metric if you'd like to restore the old behavior.\n"
     ]
    },
    {
     "data": {
      "text/plain": [
       "XGBClassifier(base_score=0.5, booster='gbtree', colsample_bylevel=1,\n",
       "              colsample_bynode=1, colsample_bytree=1, gamma=0, gpu_id=-1,\n",
       "              importance_type='gain', interaction_constraints='',\n",
       "              learning_rate=0.300000012, max_delta_step=0, max_depth=6,\n",
       "              min_child_weight=1, missing=nan, monotone_constraints='()',\n",
       "              n_estimators=100, n_jobs=4, num_parallel_tree=1, random_state=0,\n",
       "              reg_alpha=0, reg_lambda=1, scale_pos_weight=1, subsample=1,\n",
       "              tree_method='exact', validate_parameters=1, verbosity=None)"
      ]
     },
     "execution_count": 115,
     "metadata": {},
     "output_type": "execute_result"
    }
   ],
   "source": [
    "from xgboost import XGBClassifier\n",
    "xgb=XGBClassifier()\n",
    "xgb.fit(xtrain, ytrain)"
   ]
  },
  {
   "cell_type": "code",
   "execution_count": 116,
   "metadata": {},
   "outputs": [],
   "source": [
    "y_pred5=xgb.predict(xtest)"
   ]
  },
  {
   "cell_type": "code",
   "execution_count": 118,
   "metadata": {},
   "outputs": [
    {
     "name": "stdout",
     "output_type": "stream",
     "text": [
      "Model accuracy =67.86%\n"
     ]
    }
   ],
   "source": [
    "print(\"Model accuracy ={:.2f}%\".format(accuracy_score(ytest,y_pred5)*100))"
   ]
  },
  {
   "cell_type": "code",
   "execution_count": 120,
   "metadata": {},
   "outputs": [
    {
     "data": {
      "text/plain": [
       "<sklearn.metrics._plot.confusion_matrix.ConfusionMatrixDisplay at 0x22d7e6fdb88>"
      ]
     },
     "execution_count": 120,
     "metadata": {},
     "output_type": "execute_result"
    },
    {
     "data": {
      "image/png": "[encoded data removed]",
      "text/plain": [
       "<Figure size 432x288 with 2 Axes>"
      ]
     },
     "metadata": {
      "needs_background": "light"
     },
     "output_type": "display_data"
    }
   ],
   "source": [
    "plot_confusion_matrix(xgb,xtest,ytest)"
   ]
  },
  {
   "cell_type": "code",
   "execution_count": 122,
   "metadata": {},
   "outputs": [],
   "source": [
    "import pickle\n",
    "pickle.dump(rfe,open('model.pkl','wb'))"
   ]
  },
  {
   "cell_type": "code",
   "execution_count": null,
   "metadata": {},
   "outputs": [],
   "source": []
  }
 ],
 "metadata": {
  "kernelspec": {
   "display_name": "Python 3",
   "language": "python",
   "name": "python3"
  },
  "language_info": {
   "codemirror_mode": {
    "name": "ipython",
    "version": 3
   },
   "file_extension": ".py",
   "mimetype": "text/x-python",
   "name": "python",
   "nbconvert_exporter": "python",
   "pygments_lexer": "ipython3",
   "version": "3.7.4"
  }
 },
 "nbformat": 4,
 "nbformat_minor": 2
}
